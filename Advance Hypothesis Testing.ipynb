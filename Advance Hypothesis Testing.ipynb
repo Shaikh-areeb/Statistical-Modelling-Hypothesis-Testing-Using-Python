{
 "cells": [
  {
   "cell_type": "code",
   "execution_count": 1,
   "id": "3f30feba-1b46-4a87-9368-1d5191800f5f",
   "metadata": {},
   "outputs": [],
   "source": [
    "import pandas as pd\n",
    "import numpy as np"
   ]
  },
  {
   "cell_type": "markdown",
   "id": "79112712-ce99-4ed4-ae48-6f35ca800fe8",
   "metadata": {},
   "source": [
    "## A/B Testing for Business Decision Making\r\n",
    "\n",
    "A/B testing compares two versions of a product (e.g., a webpage, feature, or campaign) to determine which performs better. It involves testing a null   hypothesis that there’s no difference between the two groupser?"
   ]
  },
  {
   "cell_type": "markdown",
   "id": "c047aaeb-dccf-4c28-b727-cf9edeff4d54",
   "metadata": {},
   "source": [
    "**Example Problem:** You are testing two versions of a webpage (A and B) to compare their conversion rates. Webpage A had 2000 visitors with 300 conversions, while Webpage B had 1800 visitors with 330 conversions. Is webpage B significantly better?"
   ]
  },
  {
   "cell_type": "code",
   "execution_count": 10,
   "id": "8b320c0c-0838-4274-aca2-57f33fd61b71",
   "metadata": {},
   "outputs": [],
   "source": [
    "from statsmodels.stats.proportion import proportions_ztest"
   ]
  },
  {
   "cell_type": "code",
   "execution_count": 11,
   "id": "b3e688c4-307f-4f86-a89c-66f1d213f1d7",
   "metadata": {},
   "outputs": [
    {
     "name": "stdout",
     "output_type": "stream",
     "text": [
      "Z-Statistic: -2.76, P-Value: 0.0058\n",
      "Reject the null hypothesis: Webpage B performs significantly better.\n"
     ]
    }
   ],
   "source": [
    "# conversion data\n",
    "success_a, success_b = 300, 330  # conversions\n",
    "n_a, n_b = 2000, 1800  # visitors\n",
    "\n",
    "# perform z-test\n",
    "stat, p_value = proportions_ztest([success_a, success_b], [n_a, n_b])\n",
    "print(f\"Z-Statistic: {stat:.2f}, P-Value: {p_value:.4f}\")\n",
    "\n",
    "if p_value < 0.05:\n",
    "    print(\"Reject the null hypothesis: Webpage B performs significantly better.\")\n",
    "else:\n",
    "    print(\"Fail to reject the null hypothesis: No significant difference.\")"
   ]
  },
  {
   "cell_type": "markdown",
   "id": "1dc4f846-41e5-4095-8cf0-959525f98dca",
   "metadata": {},
   "source": [
    "## One-Sample t-Test for Mean Comparison\n",
    "\r\n",
    "A one-sample t-test is used to determine whether the mean of a single sample differs significantly from a known or hypothesized population mean."
   ]
  },
  {
   "cell_type": "markdown",
   "id": "7ea924ff-6810-4615-89ad-3439492d2d19",
   "metadata": {},
   "source": [
    "**Example Problem:** Your company claims that the average delivery time for online orders is 30 minutes. A random sample of 50 deliveries has an average time of 32 minutes with a standard deviation of 5 minutes. Is the claim accurate?"
   ]
  },
  {
   "cell_type": "code",
   "execution_count": 15,
   "id": "a1bdb275-d772-43f5-8c82-5a3265b79f47",
   "metadata": {},
   "outputs": [
    {
     "name": "stdout",
     "output_type": "stream",
     "text": [
      "T-Statistic: 2.04, P-Value: 0.0464\n",
      "Reject the null hypothesis: The average delivery time is not 30 minutes.\n"
     ]
    }
   ],
   "source": [
    "from scipy.stats import ttest_1samp\n",
    "import numpy as np\n",
    "\n",
    "# sample data\n",
    "sample_times = np.random.normal(32, 5, 50)  # randomly generated data with mean 32\n",
    "population_mean = 30  # hypothesized mean\n",
    "\n",
    "# perform one-sample t-test\n",
    "stat, p_value = ttest_1samp(sample_times, population_mean)\n",
    "print(f\"T-Statistic: {stat:.2f}, P-Value: {p_value:.4f}\")\n",
    "\n",
    "if p_value < 0.05:\n",
    "    print(\"Reject the null hypothesis: The average delivery time is not 30 minutes.\")\n",
    "else:\n",
    "    print(\"Fail to reject the null hypothesis: The average delivery time is 30 minutes.\")"
   ]
  },
  {
   "cell_type": "markdown",
   "id": "21bdb1ef-8d7f-4c62-876d-0c42952d221a",
   "metadata": {},
   "source": [
    "## Two-Sample t-Test for Comparing Means\n",
    "\n",
    "A two-sample t-test is used to compare the means of two independent groups to determine if there is a statistically significant difference between them."
   ]
  },
  {
   "cell_type": "markdown",
   "id": "d03df896-df79-41cc-9c6c-9af5a6d278b5",
   "metadata": {},
   "source": [
    "**Example Problem:** You want to compare the average sales of two stores (Store A and Store B). Store A’s sales data has a mean of $5000 with a   standard deviation of $700 (50 observations), while Store B’s sales data has a mean of $5200 with a standard deviation of $750 (45 observations). Are the sales significantly different?"
   ]
  },
  {
   "cell_type": "code",
   "execution_count": 20,
   "id": "03512d64-3e85-461e-86e4-0fa4c36801cd",
   "metadata": {},
   "outputs": [
    {
     "name": "stdout",
     "output_type": "stream",
     "text": [
      "T-Statistic: -2.88, P-Value: 0.0049\n",
      "Reject the null hypothesis: The average sales are significantly different.\n"
     ]
    }
   ],
   "source": [
    "from scipy.stats import ttest_ind\n",
    "\n",
    "# sample data\n",
    "mean_a, std_a, n_a = 5000, 700, 50\n",
    "mean_b, std_b, n_b = 5200, 750, 45\n",
    "\n",
    "np.random.seed(42)\n",
    "sales_a = np.random.normal(mean_a, std_a, n_a)\n",
    "sales_b = np.random.normal(mean_b, std_b, n_b)\n",
    "\n",
    "# perform two-sample t-test\n",
    "stat, p_value = ttest_ind(sales_a, sales_b)\n",
    "print(f\"T-Statistic: {stat:.2f}, P-Value: {p_value:.4f}\")\n",
    "\n",
    "if p_value < 0.05:\n",
    "    print(\"Reject the null hypothesis: The average sales are significantly different.\")\n",
    "else:\n",
    "    print(\"Fail to reject the null hypothesis: No significant difference in sales.\")"
   ]
  },
  {
   "cell_type": "markdown",
   "id": "38e4f1dd-7e14-4745-b6d1-cf7dbd501311",
   "metadata": {},
   "source": [
    "## Chi-Square Test for Independence\r\n",
    "The Chi-Square test is used to determine if two categorical variables are independent. It is commonly used for surveys or marketing data."
   ]
  },
  {
   "cell_type": "markdown",
   "id": "2bef691d-c4f1-45fa-8cc7-144f1b71d0c7",
   "metadata": {},
   "source": [
    "**Example Problem:** You are analyzing customer preferences based on two variables: Gender (Male/Female) and Preferred Product (Product A/Product B). Is there a significant association between gender and product preference?"
   ]
  },
  {
   "cell_type": "code",
   "execution_count": 22,
   "id": "07e54ad7-f0a8-48f0-b02c-ed2a1c287a3a",
   "metadata": {},
   "outputs": [
    {
     "name": "stdout",
     "output_type": "stream",
     "text": [
      "Chi-Square Statistic: 0.04, P-Value: 0.8508\n",
      "Fail to reject the null hypothesis: No significant association.\n"
     ]
    },
    {
     "data": {
      "text/html": [
       "<div>\n",
       "<style scoped>\n",
       "    .dataframe tbody tr th:only-of-type {\n",
       "        vertical-align: middle;\n",
       "    }\n",
       "\n",
       "    .dataframe tbody tr th {\n",
       "        vertical-align: top;\n",
       "    }\n",
       "\n",
       "    .dataframe thead th {\n",
       "        text-align: right;\n",
       "    }\n",
       "</style>\n",
       "<table border=\"1\" class=\"dataframe\">\n",
       "  <thead>\n",
       "    <tr style=\"text-align: right;\">\n",
       "      <th></th>\n",
       "      <th>Product A</th>\n",
       "      <th>Product B</th>\n",
       "    </tr>\n",
       "  </thead>\n",
       "  <tbody>\n",
       "    <tr>\n",
       "      <th>Male</th>\n",
       "      <td>50</td>\n",
       "      <td>30</td>\n",
       "    </tr>\n",
       "    <tr>\n",
       "      <th>Female</th>\n",
       "      <td>60</td>\n",
       "      <td>40</td>\n",
       "    </tr>\n",
       "  </tbody>\n",
       "</table>\n",
       "</div>"
      ],
      "text/plain": [
       "        Product A  Product B\n",
       "Male           50         30\n",
       "Female         60         40"
      ]
     },
     "execution_count": 22,
     "metadata": {},
     "output_type": "execute_result"
    }
   ],
   "source": [
    "from scipy.stats import chi2_contingency\n",
    "import pandas as pd\n",
    "\n",
    "# contingency table\n",
    "data = {'Product A': [50, 60], 'Product B': [30, 40]}\n",
    "df = pd.DataFrame(data, index=['Male', 'Female'])\n",
    "\n",
    "# perform Chi-Square test\n",
    "stat, p_value, dof, expected = chi2_contingency(df)\n",
    "print(f\"Chi-Square Statistic: {stat:.2f}, P-Value: {p_value:.4f}\")\n",
    "\n",
    "if p_value < 0.05:\n",
    "    print(\"Reject the null hypothesis: Gender and product preference are associated.\")\n",
    "else:\n",
    "    print(\"Fail to reject the null hypothesis: No significant association.\")\n",
    "\n",
    "df"
   ]
  },
  {
   "cell_type": "markdown",
   "id": "ce97a623-304f-4ef9-9c7a-d4e6a0f3928a",
   "metadata": {},
   "source": [
    "## ANOVA for Comparing Multiple Groups\n",
    "ANOVA is used to compare the means of more than two groups to determine if at least one group’s mean is significantly different."
   ]
  },
  {
   "cell_type": "markdown",
   "id": "7d3a8615-ff19-4717-b694-8fc775aff97d",
   "metadata": {},
   "source": [
    "**Example Problem:** You are comparing the average monthly sales of three regions (North, South, and West). Generate sales data and check if there is a significant difference in sales across regions."
   ]
  },
  {
   "cell_type": "code",
   "execution_count": 23,
   "id": "d1fbbed9-effc-4b71-bf31-c4ca9d463261",
   "metadata": {},
   "outputs": [
    {
     "name": "stdout",
     "output_type": "stream",
     "text": [
      "F-Statistic: 3.64, P-Value: 0.0304\n",
      "Reject the null hypothesis: At least one region has significantly different sales.\n"
     ]
    }
   ],
   "source": [
    "from scipy.stats import f_oneway\n",
    "\n",
    "# sample data\n",
    "np.random.seed(42)\n",
    "north_sales = np.random.normal(5000, 500, 30)\n",
    "south_sales = np.random.normal(5200, 600, 30)\n",
    "west_sales = np.random.normal(4800, 400, 30)\n",
    "\n",
    "# perform one-way ANOVA\n",
    "stat, p_value = f_oneway(north_sales, south_sales, west_sales)\n",
    "print(f\"F-Statistic: {stat:.2f}, P-Value: {p_value:.4f}\")\n",
    "\n",
    "if p_value < 0.05:\n",
    "    print(\"Reject the null hypothesis: At least one region has significantly different sales.\")\n",
    "else:\n",
    "    print(\"Fail to reject the null hypothesis: No significant difference in sales across regions.\")"
   ]
  },
  {
   "cell_type": "markdown",
   "id": "eb904757-a302-4826-8a0d-3118e5fd990f",
   "metadata": {},
   "source": [
    "## Summary"
   ]
  },
  {
   "cell_type": "markdown",
   "id": "e3371b67-7747-4e7a-84e2-20f242adc7c6",
   "metadata": {},
   "source": [
    "1) A/B Testing: Comparing proportions to assess business strategies.\n",
    "2) One-Sample t-Test: Validating claims about a population mean.\n",
    "3) Two-Sample t-Test: Comparing means between two independent groups.\n",
    "4) Chi-Square Test: Assessing associations between categorical variables.\n",
    "5) ANOVA: Comparing means across multiple groups."
   ]
  },
  {
   "cell_type": "code",
   "execution_count": null,
   "id": "be6bb1cc-e76e-424e-99d2-5a0b1f787f1f",
   "metadata": {},
   "outputs": [],
   "source": []
  }
 ],
 "metadata": {
  "kernelspec": {
   "display_name": "Python 3 (ipykernel)",
   "language": "python",
   "name": "python3"
  },
  "language_info": {
   "codemirror_mode": {
    "name": "ipython",
    "version": 3
   },
   "file_extension": ".py",
   "mimetype": "text/x-python",
   "name": "python",
   "nbconvert_exporter": "python",
   "pygments_lexer": "ipython3",
   "version": "3.11.7"
  }
 },
 "nbformat": 4,
 "nbformat_minor": 5
}
